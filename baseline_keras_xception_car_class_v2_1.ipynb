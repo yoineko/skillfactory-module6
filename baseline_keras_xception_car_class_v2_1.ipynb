{
  "nbformat": 4,
  "nbformat_minor": 0,
  "metadata": {
    "kernelspec": {
      "display_name": "Python 3",
      "language": "python",
      "name": "python3"
    },
    "language_info": {
      "codemirror_mode": {
        "name": "ipython",
        "version": 3
      },
      "file_extension": ".py",
      "mimetype": "text/x-python",
      "name": "python",
      "nbconvert_exporter": "python",
      "pygments_lexer": "ipython3",
      "version": "3.7.6"
    },
    "colab": {
      "name": "baseline-keras-xception-car-class-v2-1.ipynb",
      "provenance": [],
      "collapsed_sections": [],
      "machine_shape": "hm",
      "include_colab_link": true
    },
    "accelerator": "GPU"
  },
  "cells": [
    {
      "cell_type": "markdown",
      "metadata": {
        "id": "view-in-github",
        "colab_type": "text"
      },
      "source": [
        "<a href=\"https://colab.research.google.com/github/yoineko/skillfactory-module6/blob/master/baseline_keras_xception_car_class_v2_1.ipynb\" target=\"_parent\"><img src=\"https://colab.research.google.com/assets/colab-badge.svg\" alt=\"Open In Colab\"/></a>"
      ]
    },
    {
      "cell_type": "markdown",
      "metadata": {
        "id": "EfnhqFBG12sK",
        "colab_type": "text"
      },
      "source": [
        "> Это пример решения задачи с использованием base_model = EfficientNetB7\n",
        "# Классификация изображений\n",
        "\n",
        "### Основная идея этого решения: взять предобученую на ImageNet сеть Xception и дообучить под нашу задачу. \n",
        "По ходу решения мы будем давать вам рекомендации, которые помогут улучшить качество модели. \n",
        "\n",
        "\n",
        "Удачи и Поехали!"
      ]
    },
    {
      "cell_type": "code",
      "metadata": {
        "id": "T7_CbbX9gDFM",
        "colab_type": "code",
        "colab": {}
      },
      "source": [
        "# device_name = tf.test.gpu_device_name()\n",
        "# if device_name != '/device:GPU:0':\n",
        "#   raise SystemError('GPU device not found')\n",
        "# print('Found GPU at: {}'.format(device_name))"
      ],
      "execution_count": 62,
      "outputs": []
    },
    {
      "cell_type": "code",
      "metadata": {
        "id": "cVznr9t52iyl",
        "colab_type": "code",
        "colab": {
          "base_uri": "https://localhost:8080/",
          "height": 34
        },
        "outputId": "34f53e0c-2fc4-4b76-a45e-d480cb3062a3"
      },
      "source": [
        "from google.colab import drive\n",
        "drive.mount('/content/drive')\n",
        "DIR = '/content/drive/My Drive/Colab Notebooks/Data_Sceince/Module_6/'"
      ],
      "execution_count": 63,
      "outputs": [
        {
          "output_type": "stream",
          "text": [
            "Drive already mounted at /content/drive; to attempt to forcibly remount, call drive.mount(\"/content/drive\", force_remount=True).\n"
          ],
          "name": "stdout"
        }
      ]
    },
    {
      "cell_type": "code",
      "metadata": {
        "_cell_guid": "b1076dfc-b9ad-4769-8c92-a6c4dae69d19",
        "_kg_hide-input": true,
        "_uuid": "8f2839f25d086af736a60e9eeb907d3b93b6e0e5",
        "id": "4nNCveyZ12sM",
        "colab_type": "code",
        "colab": {
          "base_uri": "https://localhost:8080/",
          "height": 357
        },
        "outputId": "f0b56d25-63e1-4c28-9f07-dca328d4a1e9"
      },
      "source": [
        "!nvidia-smi"
      ],
      "execution_count": 64,
      "outputs": [
        {
          "output_type": "stream",
          "text": [
            "Sat Aug 22 09:37:19 2020       \n",
            "+-----------------------------------------------------------------------------+\n",
            "| NVIDIA-SMI 450.57       Driver Version: 418.67       CUDA Version: 10.1     |\n",
            "|-------------------------------+----------------------+----------------------+\n",
            "| GPU  Name        Persistence-M| Bus-Id        Disp.A | Volatile Uncorr. ECC |\n",
            "| Fan  Temp  Perf  Pwr:Usage/Cap|         Memory-Usage | GPU-Util  Compute M. |\n",
            "|                               |                      |               MIG M. |\n",
            "|===============================+======================+======================|\n",
            "|   0  Tesla P100-PCIE...  Off  | 00000000:00:04.0 Off |                    0 |\n",
            "| N/A   40C    P0    35W / 250W |  15525MiB / 16280MiB |      0%      Default |\n",
            "|                               |                      |                 ERR! |\n",
            "+-------------------------------+----------------------+----------------------+\n",
            "                                                                               \n",
            "+-----------------------------------------------------------------------------+\n",
            "| Processes:                                                                  |\n",
            "|  GPU   GI   CI        PID   Type   Process name                  GPU Memory |\n",
            "|        ID   ID                                                   Usage      |\n",
            "|=============================================================================|\n",
            "|  No running processes found                                                 |\n",
            "+-----------------------------------------------------------------------------+\n"
          ],
          "name": "stdout"
        }
      ]
    },
    {
      "cell_type": "code",
      "metadata": {
        "_cell_guid": "79c7e3d0-c299-4dcb-8224-4455121ee9b0",
        "_kg_hide-input": true,
        "_uuid": "d629ff2d2480ee46fbb7e2d37f6b5fab8052498a",
        "id": "91fSo1oY12sX",
        "colab_type": "code",
        "colab": {
          "base_uri": "https://localhost:8080/",
          "height": 102
        },
        "outputId": "80d88747-85f3-42d2-f6ae-75bed0f9aba2"
      },
      "source": [
        "import numpy as np\n",
        "import pandas as pd\n",
        "import matplotlib.pyplot as plt\n",
        "import seaborn as sns\n",
        "import pickle\n",
        "import zipfile\n",
        "import csv\n",
        "import sys\n",
        "import os\n",
        "\n",
        "\n",
        "import tensorflow as tf\n",
        "from tensorflow.keras.preprocessing import image\n",
        "from tensorflow.keras.preprocessing.image import ImageDataGenerator\n",
        "from tensorflow.keras.callbacks import LearningRateScheduler, ModelCheckpoint, EarlyStopping\n",
        "from tensorflow.keras.callbacks import Callback\n",
        "from tensorflow.keras.regularizers import l2\n",
        "from tensorflow.keras import optimizers\n",
        "from tensorflow.keras.models import Model\n",
        "from tensorflow.keras.applications.xception import Xception\n",
        "from tensorflow.keras.applications.efficientnet import EfficientNetB6, EfficientNetB7\n",
        "from tensorflow.keras.layers import *\n",
        "import tensorflow.keras.backend as K\n",
        "\n",
        "from sklearn.model_selection import train_test_split, StratifiedKFold\n",
        "\n",
        "import PIL\n",
        "from PIL import ImageOps, ImageFilter\n",
        "#увеличим дефолтный размер графиков\n",
        "from pylab import rcParams\n",
        "rcParams['figure.figsize'] = 10, 5\n",
        "#графики в svg выглядят более четкими\n",
        "%config InlineBackend.figure_format = 'svg' \n",
        "%matplotlib inline\n",
        "\n",
        "#print(os.listdir(\"../input\"))\n",
        "print(os.listdir(DIR + \"input\"))\n",
        "print('Python       :', sys.version.split('\\n')[0])\n",
        "print('Numpy        :', np.__version__)\n",
        "print('Tensorflow   :', tf.__version__)\n",
        "print('Keras        :', tf.keras.__version__)"
      ],
      "execution_count": 65,
      "outputs": [
        {
          "output_type": "stream",
          "text": [
            "['sample-submission.csv', 'test.zip', 'train.csv', 'train.zip', 'train.gsheet', 'sample-submission.gsheet']\n",
            "Python       : 3.6.9 (default, Jul 17 2020, 12:50:27) \n",
            "Numpy        : 1.18.5\n",
            "Tensorflow   : 2.3.0\n",
            "Keras        : 2.4.0\n"
          ],
          "name": "stdout"
        }
      ]
    },
    {
      "cell_type": "markdown",
      "metadata": {
        "id": "86hCrQ8e12se",
        "colab_type": "text"
      },
      "source": [
        "**Работаем с Tensorflow v2**"
      ]
    },
    {
      "cell_type": "code",
      "metadata": {
        "_kg_hide-input": true,
        "id": "c0QG32vt12sf",
        "colab_type": "code",
        "colab": {}
      },
      "source": [
        "!pip freeze > requirements.txt"
      ],
      "execution_count": 66,
      "outputs": []
    },
    {
      "cell_type": "markdown",
      "metadata": {
        "id": "wYPN-B1F12sn",
        "colab_type": "text"
      },
      "source": [
        "# Основные настройки"
      ]
    },
    {
      "cell_type": "code",
      "metadata": {
        "id": "PVPcg0uS12so",
        "colab_type": "code",
        "colab": {}
      },
      "source": [
        "# В setup выносим основные настройки: так удобнее их перебирать в дальнейшем.\n",
        "\n",
        "EPOCHS               = 20 #30  # эпох на обучение\n",
        "BATCH_SIZE           = 7 # 32#64 # уменьшаем batch если сеть большая, иначе не влезет в память на GPU\n",
        "LR                   = 1e-4\n",
        "VAL_SPLIT            = 0.15 # сколько данных выделяем на тест = 15%\n",
        "\n",
        "CLASS_NUM            = 10  # количество классов в нашей задаче\n",
        "IMG_SIZE             = 350 #224 # начнем с малого 224 # какого размера подаем изображения в сеть\n",
        "IMG_CHANNELS         = 3   # у RGB 3 канала\n",
        "input_shape          = (IMG_SIZE, IMG_SIZE, IMG_CHANNELS)\n",
        "\n",
        "# DATA_PATH = '../input/'\n",
        "# PATH = \"../working/car/\" # рабочая директория\n",
        "\n",
        "DATA_PATH =  DIR + 'input/'\n",
        "PATH = DIR + \"working/car/\" # рабочая директория\n",
        "ver = '3_17'"
      ],
      "execution_count": 67,
      "outputs": []
    },
    {
      "cell_type": "code",
      "metadata": {
        "_kg_hide-input": true,
        "id": "32sCLmaE12st",
        "colab_type": "code",
        "colab": {}
      },
      "source": [
        "# Устаналиваем конкретное значение random seed для воспроизводимости\n",
        "#os.makedirs(PATH,  exist_ok=False)\n",
        "\n",
        "RANDOM_SEED = 42\n",
        "np.random.seed(RANDOM_SEED)  \n",
        "PYTHONHASHSEED = 0"
      ],
      "execution_count": 68,
      "outputs": []
    },
    {
      "cell_type": "markdown",
      "metadata": {
        "id": "93vvBt_m12sx",
        "colab_type": "text"
      },
      "source": [
        "# EDA / Анализ данных"
      ]
    },
    {
      "cell_type": "code",
      "metadata": {
        "id": "b4m6kd3j12sx",
        "colab_type": "code",
        "colab": {}
      },
      "source": [
        "train_df = pd.read_csv(DATA_PATH+\"train.csv\")\n",
        "sample_submission = pd.read_csv(DATA_PATH+\"sample-submission.csv\")\n",
        "#train_df.head()"
      ],
      "execution_count": 69,
      "outputs": []
    },
    {
      "cell_type": "code",
      "metadata": {
        "id": "cKqscwq912s2",
        "colab_type": "code",
        "colab": {}
      },
      "source": [
        "#train_df.info()"
      ],
      "execution_count": 70,
      "outputs": []
    },
    {
      "cell_type": "code",
      "metadata": {
        "id": "XyyytWb_12s6",
        "colab_type": "code",
        "colab": {}
      },
      "source": [
        "#train_df.Category.value_counts()\n",
        "# распределение классов достаточно равномерное - это хорошо"
      ],
      "execution_count": 71,
      "outputs": []
    },
    {
      "cell_type": "code",
      "metadata": {
        "id": "wva3sOtK12s-",
        "colab_type": "code",
        "colab": {}
      },
      "source": [
        "# print('Распаковываем картинки')\n",
        "# # Will unzip the files so that you can see them..\n",
        "# for data_zip in ['train.zip', 'test.zip']:\n",
        "#     #with zipfile.ZipFile(\"../input/\"+data_zip,\"r\") as z:\n",
        "#     with zipfile.ZipFile(DIR + \"/input/\"+data_zip,\"r\") as z:  \n",
        "#         z.extractall(PATH)\n",
        "        \n",
        "# print(os.listdir(PATH))"
      ],
      "execution_count": 72,
      "outputs": []
    },
    {
      "cell_type": "code",
      "metadata": {
        "_kg_hide-input": true,
        "id": "2eLdjDgz12tB",
        "colab_type": "code",
        "colab": {}
      },
      "source": [
        "# print('Пример картинок (random sample)')\n",
        "# plt.figure(figsize=(12,8))\n",
        "\n",
        "# random_image = train_df.sample(n=9)\n",
        "# random_image_paths = random_image['Id'].values\n",
        "# random_image_cat = random_image['Category'].values\n",
        "\n",
        "# for index, path in enumerate(random_image_paths):\n",
        "#     im = PIL.Image.open(PATH+f'train/{random_image_cat[index]}/{path}')\n",
        "#     plt.subplot(3,3, index+1)\n",
        "#     plt.imshow(im)\n",
        "#     plt.title('Class: '+str(random_image_cat[index]))\n",
        "#     plt.axis('off')\n",
        "# plt.show()"
      ],
      "execution_count": 73,
      "outputs": []
    },
    {
      "cell_type": "markdown",
      "metadata": {
        "id": "OKGrlvsM12tF",
        "colab_type": "text"
      },
      "source": [
        "Посмотрим на примеры картинок и их размеры чтоб понимать как их лучше обработать и сжимать."
      ]
    },
    {
      "cell_type": "code",
      "metadata": {
        "id": "WsbkqCsv12tG",
        "colab_type": "code",
        "colab": {}
      },
      "source": [
        "# image = PIL.Image.open(PATH+'/train/0/100380.jpg')\n",
        "# imgplot = plt.imshow(image)\n",
        "# plt.show()\n",
        "# image.size"
      ],
      "execution_count": 74,
      "outputs": []
    },
    {
      "cell_type": "markdown",
      "metadata": {
        "id": "JpsQ-Ghz12tJ",
        "colab_type": "text"
      },
      "source": [
        "### Уже догадываетесь, что означают классы?"
      ]
    },
    {
      "cell_type": "markdown",
      "metadata": {
        "id": "9ruoMpBx12tJ",
        "colab_type": "text"
      },
      "source": [
        "# Подготовка данных"
      ]
    },
    {
      "cell_type": "markdown",
      "metadata": {
        "id": "bY_p2DNN12tK",
        "colab_type": "text"
      },
      "source": [
        "### Аугментация данных"
      ]
    },
    {
      "cell_type": "code",
      "metadata": {
        "id": "b79WopHR12tK",
        "colab_type": "code",
        "colab": {}
      },
      "source": [
        "# Вы помните, что аугментация данных важна, когда мы работаем с небольшим датасетом. Это как раз наш случай.\n",
        "# Чтобы лучше понять работу параметров, попробуйте их изменить. К какому результату это приведет?\n",
        "# Официальная документация: https://keras.io/preprocessing/image/\n",
        "\n",
        "# train_datagen = ImageDataGenerator(\n",
        "#     rescale=1. / 255,\n",
        "#     rotation_range = 5,\n",
        "#     width_shift_range=0.1,\n",
        "#     height_shift_range=0.1,\n",
        "#     validation_split=VAL_SPLIT, # set validation split\n",
        "#     horizontal_flip=False)\n",
        "\n",
        "#test_datagen = ImageDataGenerator(rescale=1. / 255)\n",
        "\n",
        "#Рекомендация Подключите более продвинутые библиотеки аугментации изображений (например: albumentations или imgaug, для них есть специальные \"обертки\" под Keras, например: https://github.com/mjkvaak/ImageDataAugmentor)"
      ],
      "execution_count": 75,
      "outputs": []
    },
    {
      "cell_type": "code",
      "metadata": {
        "id": "miDWk1Qoj28C",
        "colab_type": "code",
        "colab": {}
      },
      "source": [
        "train_datagen = ImageDataGenerator(\n",
        "    rescale=1. / 255,\n",
        "    rotation_range = 10,\n",
        "    width_shift_range=0.1,\n",
        "    height_shift_range=0.1,\n",
        "    validation_split=VAL_SPLIT, # set validation split\n",
        "    horizontal_flip=True,\n",
        "    brightness_range=[0.5,1.5], \n",
        "    shear_range=0.1,\n",
        "    zoom_range=0.3,\n",
        "    fill_mode='reflect'\n",
        "    )\n",
        "\n",
        "test_datagen = ImageDataGenerator(\n",
        "    rescale=1. / 255,\n",
        "    rotation_range = 10,\n",
        "    width_shift_range=0.1,\n",
        "    height_shift_range=0.1,\n",
        "    horizontal_flip=True,\n",
        "    brightness_range=[0.5,1.5],    \n",
        "    shear_range=0.1,\n",
        "    zoom_range=0.3,\n",
        "    fill_mode='reflect'\n",
        "    )"
      ],
      "execution_count": 76,
      "outputs": []
    },
    {
      "cell_type": "markdown",
      "metadata": {
        "id": "Vx_GzT-l12tN",
        "colab_type": "text"
      },
      "source": [
        "### Генерация данных"
      ]
    },
    {
      "cell_type": "code",
      "metadata": {
        "id": "rdWdKdFf12tO",
        "colab_type": "code",
        "colab": {
          "base_uri": "https://localhost:8080/",
          "height": 68
        },
        "outputId": "1fbf3031-f190-46c5-c608-f3e96eda17d1"
      },
      "source": [
        "# Завернем наши данные в генератор:\n",
        "\n",
        "train_generator = train_datagen.flow_from_directory(\n",
        "    PATH+'train/',      # директория где расположены папки с картинками \n",
        "    target_size=(IMG_SIZE, IMG_SIZE),\n",
        "    batch_size=BATCH_SIZE,\n",
        "    class_mode='categorical',\n",
        "    shuffle=True, seed=RANDOM_SEED,\n",
        "    subset='training') # set as training data\n",
        "\n",
        "test_generator = train_datagen.flow_from_directory(\n",
        "    PATH+'train/',\n",
        "    target_size=(IMG_SIZE, IMG_SIZE),\n",
        "    batch_size=BATCH_SIZE,\n",
        "    class_mode='categorical',\n",
        "    shuffle=True, seed=RANDOM_SEED,\n",
        "    subset='validation') # set as validation data\n",
        "\n",
        "#test_sub_generator = test_datagen.flow_from_dataframe( \n",
        "test_sub_generator = train_datagen.flow_from_dataframe( \n",
        "    dataframe=sample_submission,\n",
        "    directory=PATH+'test_upload/',\n",
        "    x_col=\"Id\",\n",
        "    y_col=None,\n",
        "    shuffle=False,\n",
        "    class_mode=None,\n",
        "    seed=RANDOM_SEED,\n",
        "    target_size=(IMG_SIZE, IMG_SIZE),\n",
        "    batch_size=BATCH_SIZE,)\n",
        "\n",
        "# Обратите внимание, что для сабмита мы используем другой источник test_datagen.flow_from_dataframe. Как вы думаете, почему?"
      ],
      "execution_count": 77,
      "outputs": [
        {
          "output_type": "stream",
          "text": [
            "Found 13232 images belonging to 10 classes.\n",
            "Found 2329 images belonging to 10 classes.\n",
            "Found 6675 validated image filenames.\n"
          ],
          "name": "stdout"
        }
      ]
    },
    {
      "cell_type": "markdown",
      "metadata": {
        "id": "Z9ybZ4TU12tR",
        "colab_type": "text"
      },
      "source": [
        "# Построение модели"
      ]
    },
    {
      "cell_type": "markdown",
      "metadata": {
        "id": "J6JcvqeP12tR",
        "colab_type": "text"
      },
      "source": [
        "### Загружаем предобученную сеть Xception:"
      ]
    },
    {
      "cell_type": "code",
      "metadata": {
        "id": "x5Mv90kdhtye",
        "colab_type": "code",
        "colab": {}
      },
      "source": [
        "# чистит сессию в Keras и TF\n",
        "def reset_tf_session():\n",
        "    curr_session = tf.compat.v1.get_default_session()\n",
        "    # close current session\n",
        "    if curr_session is not None:\n",
        "        curr_session.close()\n",
        "    # reset graph\n",
        "    K.clear_session()\n",
        "    # create new session\n",
        "    config = tf.compat.v1.ConfigProto()\n",
        "    config.gpu_options.allow_growth = True\n",
        "    s = tf.compat.v1.InteractiveSession(config=config)\n",
        " #   K.set_session(s)\n",
        "    tf.compat.v1.keras.backend.set_session(s)\n",
        "\n",
        "s = reset_tf_session()"
      ],
      "execution_count": 78,
      "outputs": []
    },
    {
      "cell_type": "code",
      "metadata": {
        "id": "dIq7Na6G12tS",
        "colab_type": "code",
        "colab": {}
      },
      "source": [
        "#base_model = Xception(weights='imagenet', include_top=False, input_shape = input_shape)\n",
        "#base_model = EfficientNetB6(weights='imagenet', include_top=False, input_shape = input_shape)\n",
        "base_model = EfficientNetB7(weights='imagenet', include_top=False, input_shape = input_shape)"
      ],
      "execution_count": 79,
      "outputs": []
    },
    {
      "cell_type": "code",
      "metadata": {
        "_kg_hide-output": true,
        "id": "I-bzYgIB12tV",
        "colab_type": "code",
        "colab": {}
      },
      "source": [
        "#base_model.summary()\n",
        "# Рекомендация: Попробуйте и другие архитектуры сетей"
      ],
      "execution_count": 80,
      "outputs": []
    },
    {
      "cell_type": "code",
      "metadata": {
        "id": "7WnfXXOe12tY",
        "colab_type": "code",
        "colab": {}
      },
      "source": [
        "# # Устанавливаем новую \"голову\" (head)\n",
        "\n",
        "# x = base_model.output\n",
        "# x = GlobalAveragePooling2D()(x)\n",
        "# # x = Dropout(0.25)(x)\n",
        "# # let's add a fully-connected layer\n",
        "# x = Dense(256, activation='relu')(x)\n",
        "# # x = Dropout(0.25)(x)\n",
        "# # x = Dense(512, activation='relu')(x)\n",
        "# # x = BatchNormalization()(x)\n",
        "# x = Dropout(0.25)(x)\n",
        "# # and a logistic layer -- let's say we have 10 classes\n",
        "# predictions = Dense(CLASS_NUM, activation='softmax')(x)\n",
        "\n",
        "# # this is the model we will train\n",
        "# model = Model(inputs=base_model.input, outputs=predictions)\n",
        "# model.compile(loss=\"categorical_crossentropy\", optimizer=optimizers.Adam(lr=LR), metrics=[\"accuracy\"])"
      ],
      "execution_count": 81,
      "outputs": []
    },
    {
      "cell_type": "code",
      "metadata": {
        "id": "PYDdw7Apr_QD",
        "colab_type": "code",
        "colab": {}
      },
      "source": [
        "# # Устанавливаем новую \"голову\" (head)\n",
        "\n",
        "# x = base_model.output\n",
        "# x = GlobalAveragePooling2D()(x)\n",
        "# x = BatchNormalization()(x)\n",
        "# # let's add a fully-connected layer\n",
        "# x = Dense(256, activation='relu')(x)\n",
        "# x = BatchNormalization()(x)\n",
        "# x = Flatten()(x)\n",
        "# x = Dense(512, activation='relu')(x)\n",
        "# x = BatchNormalization()(x)\n",
        "# #x = Dropout(0.25)(x)\n",
        "# # and a logistic layer -- let's say we have 10 classes\n",
        "# predictions = Dense(CLASS_NUM, activation='softmax')(x)\n",
        "\n",
        "# # this is the model we will train\n",
        "# model = Model(inputs=base_model.input, outputs=predictions)\n",
        "# model.compile(loss=\"categorical_crossentropy\", optimizer=optimizers.Adam(lr=LR), metrics=[\"accuracy\"])"
      ],
      "execution_count": 82,
      "outputs": []
    },
    {
      "cell_type": "code",
      "metadata": {
        "id": "B-cIY4s-_7ac",
        "colab_type": "code",
        "colab": {}
      },
      "source": [
        "# Устанавливаем новую \"голову\" (head)\n",
        "\n",
        "x = base_model.output\n",
        "\n",
        "x = Conv2D(64, kernel_size=3, strides=1, padding='same')(x)\n",
        "x = BatchNormalization()(x)\n",
        "x = Dense(256, activation='relu')(x)\n",
        "\n",
        "x = GlobalAveragePooling2D()(x)\n",
        "x = Dropout(0.25)(x)\n",
        "# let's add a fully-connected layer\n",
        "x = Dense(128, activation='relu')(x)\n",
        "x = Dropout(0.25)(x)\n",
        "\n",
        "# and a logistic layer -- let's say we have 10 classes\n",
        "predictions = Dense(CLASS_NUM, activation='softmax')(x)\n",
        "\n",
        "# this is the model we will train\n",
        "model = Model(inputs=base_model.input, outputs=predictions)\n",
        "model.compile(loss=\"categorical_crossentropy\", optimizer=optimizers.Adam(lr=LR), metrics=[\"accuracy\"])"
      ],
      "execution_count": 83,
      "outputs": []
    },
    {
      "cell_type": "code",
      "metadata": {
        "id": "AodDMpVnxHTW",
        "colab_type": "code",
        "colab": {}
      },
      "source": [
        "# Сконфигурируем модель для категориальной классификации.\n",
        "#model.compile(loss=\"categorical_crossentropy\", optimizer=optimizers.RMSprop(lr=LR), metrics=[\"accuracy\"])\n",
        "\n",
        "#model.compile(loss=\"categorical_crossentropy\", optimizer=SGD(lr=LR, momentum=0.9), metrics=[\"accuracy\"])"
      ],
      "execution_count": 84,
      "outputs": []
    },
    {
      "cell_type": "code",
      "metadata": {
        "_kg_hide-input": false,
        "_kg_hide-output": true,
        "id": "HEDfcd5A12tb",
        "colab_type": "code",
        "colab": {}
      },
      "source": [
        "#model.summary()\n",
        "# Рекомендация: Попробуйте добавить Batch Normalization"
      ],
      "execution_count": 85,
      "outputs": []
    },
    {
      "cell_type": "markdown",
      "metadata": {
        "id": "g_3BEUBH12te",
        "colab_type": "text"
      },
      "source": [
        "## Обучение модели"
      ]
    },
    {
      "cell_type": "markdown",
      "metadata": {
        "id": "kNjIQNsU12te",
        "colab_type": "text"
      },
      "source": [
        "Добавим ModelCheckpoint чтоб сохранять прогресс обучения модели и можно было потом подгрузить и дообучить модель."
      ]
    },
    {
      "cell_type": "code",
      "metadata": {
        "id": "bLfs6GDt12tf",
        "colab_type": "code",
        "colab": {}
      },
      "source": [
        "checkpoint = ModelCheckpoint(DIR + f'best_model/best_model{ver}.hdf5' , monitor = 'val_accuracy' , verbose = 1  , save_best_only = True, mode = 'max')\n",
        "earlystop = EarlyStopping(patience=5, monitor='val_loss')\n",
        "callbacks_list = [checkpoint , earlystop]\n",
        "\n",
        "# Рекомендация 1. Добавьте другие функции из https://keras.io/callbacks/\n",
        "# Рекомендация 2. Используйте разные техники управления Learning Rate\n",
        "# https://towardsdatascience.com/finding-good-learning-rate-and-the-one-cycle-policy-7159fe1db5d6 (eng)\n",
        "# http://teleported.in/posts/cyclic-learning-rate/ (eng)"
      ],
      "execution_count": 86,
      "outputs": []
    },
    {
      "cell_type": "code",
      "metadata": {
        "id": "6FUecJSr0Kc1",
        "colab_type": "code",
        "colab": {}
      },
      "source": [
        "#model.load_weights(DIR +f'best_model/best_model3_10.hdf5')"
      ],
      "execution_count": 87,
      "outputs": []
    },
    {
      "cell_type": "markdown",
      "metadata": {
        "id": "Ev7JtMcg12th",
        "colab_type": "text"
      },
      "source": [
        "Обучаем:"
      ]
    },
    {
      "cell_type": "code",
      "metadata": {
        "id": "gIj1v42m12th",
        "colab_type": "code",
        "colab": {
          "base_uri": "https://localhost:8080/",
          "height": 323
        },
        "outputId": "57737e73-324e-41b4-83e3-ee6ac61cab55"
      },
      "source": [
        "%%time\n",
        "#history = model.fit_generator(\n",
        "history =    model.fit(\n",
        "        train_generator,\n",
        "        steps_per_epoch = len(train_generator),\n",
        "        validation_data = test_generator, \n",
        "        validation_steps = len(test_generator),\n",
        "        epochs = EPOCHS,\n",
        "        callbacks = callbacks_list\n",
        ")\n",
        "\n",
        "# Рекомендация: попробуйте применить transfer learning с fine-tuning"
      ],
      "execution_count": null,
      "outputs": [
        {
          "output_type": "stream",
          "text": [
            "Epoch 1/20\n",
            "1891/1891 [==============================] - ETA: 0s - loss: 0.7052 - accuracy: 0.7721\n",
            "Epoch 00001: val_accuracy improved from -inf to 0.49506, saving model to /content/drive/My Drive/Colab Notebooks/Data_Sceince/Module_6/best_model/best_model3_17.hdf5\n",
            "1891/1891 [==============================] - 1487s 786ms/step - loss: 0.7052 - accuracy: 0.7721 - val_loss: 1.4500 - val_accuracy: 0.4951\n",
            "Epoch 2/20\n",
            "1891/1891 [==============================] - ETA: 0s - loss: 0.2272 - accuracy: 0.9279\n",
            "Epoch 00002: val_accuracy improved from 0.49506 to 0.94332, saving model to /content/drive/My Drive/Colab Notebooks/Data_Sceince/Module_6/best_model/best_model3_17.hdf5\n",
            "1891/1891 [==============================] - 1486s 786ms/step - loss: 0.2272 - accuracy: 0.9279 - val_loss: 0.1711 - val_accuracy: 0.9433\n",
            "Epoch 3/20\n",
            "1891/1891 [==============================] - ETA: 0s - loss: 0.1587 - accuracy: 0.9484\n",
            "Epoch 00003: val_accuracy did not improve from 0.94332\n",
            "1891/1891 [==============================] - 1473s 779ms/step - loss: 0.1587 - accuracy: 0.9484 - val_loss: 0.4487 - val_accuracy: 0.8493\n",
            "Epoch 4/20\n",
            "1891/1891 [==============================] - ETA: 0s - loss: 0.1328 - accuracy: 0.9551\n",
            "Epoch 00004: val_accuracy did not improve from 0.94332\n",
            "1891/1891 [==============================] - 1472s 778ms/step - loss: 0.1328 - accuracy: 0.9551 - val_loss: 0.2295 - val_accuracy: 0.9270\n",
            "Epoch 5/20\n",
            "1091/1891 [================>.............] - ETA: 9:50 - loss: 0.1113 - accuracy: 0.9603"
          ],
          "name": "stdout"
        }
      ]
    },
    {
      "cell_type": "code",
      "metadata": {
        "id": "EcBd6meP12tk",
        "colab_type": "code",
        "colab": {}
      },
      "source": [
        "# сохраним итоговую сеть и подгрузим лучшую итерацию в обучении (best_model)\n",
        "model.save(DIR + f'working/model_last{ver}.hdf5')\n",
        "#model.save(DIR + f'/working/model_last{ver}.hdf5')\n",
        "model.load_weights(DIR +f'best_model/best_model{ver}.hdf5')"
      ],
      "execution_count": null,
      "outputs": []
    },
    {
      "cell_type": "code",
      "metadata": {
        "id": "jRcztcHfsrjh",
        "colab_type": "code",
        "colab": {}
      },
      "source": [
        "#model.load_weights(DIR +f'/best_model/best_model19.hdf5')"
      ],
      "execution_count": null,
      "outputs": []
    },
    {
      "cell_type": "code",
      "metadata": {
        "_kg_hide-input": true,
        "id": "i_PQR9Ni12to",
        "colab_type": "code",
        "colab": {}
      },
      "source": [
        "scores = model.evaluate_generator(test_generator, steps=len(test_generator), verbose=1)\n",
        "print(\"Accuracy: %.2f%%\" % (scores[1]*100))"
      ],
      "execution_count": null,
      "outputs": []
    },
    {
      "cell_type": "markdown",
      "metadata": {
        "id": "-eAO-O9312tr",
        "colab_type": "text"
      },
      "source": [
        "В Итоге точность нашей модели составила 93%. \n",
        "Учитывая что классов 10 - это Очень хороший результат!     \n",
        "Посмотрим графики обучения:"
      ]
    },
    {
      "cell_type": "code",
      "metadata": {
        "_kg_hide-input": true,
        "id": "6HpELywC12tr",
        "colab_type": "code",
        "colab": {}
      },
      "source": [
        "acc = history.history['accuracy']\n",
        "val_acc = history.history['val_accuracy']\n",
        "loss = history.history['loss']\n",
        "val_loss = history.history['val_loss']\n",
        " \n",
        "epochs = range(len(acc))\n",
        " \n",
        "plt.plot(epochs, acc, 'b', label='Training acc')\n",
        "plt.plot(epochs, val_acc, 'r', label='Validation acc')\n",
        "plt.title('Training and validation accuracy')\n",
        "plt.legend()\n",
        " \n",
        "plt.figure()\n",
        " \n",
        "plt.plot(epochs, loss, 'b', label='Training loss')\n",
        "plt.plot(epochs, val_loss, 'r', label='Validation loss')\n",
        "plt.title('Training and validation loss')\n",
        "plt.legend()\n",
        " \n",
        "plt.show()"
      ],
      "execution_count": null,
      "outputs": []
    },
    {
      "cell_type": "markdown",
      "metadata": {
        "id": "_NzCgCT112tu",
        "colab_type": "text"
      },
      "source": [
        "# Предсказание на тестовых данных"
      ]
    },
    {
      "cell_type": "code",
      "metadata": {
        "id": "_FUhTLA_12tv",
        "colab_type": "code",
        "colab": {}
      },
      "source": [
        "test_sub_generator.samples"
      ],
      "execution_count": null,
      "outputs": []
    },
    {
      "cell_type": "code",
      "metadata": {
        "id": "21h8--TF12tx",
        "colab_type": "code",
        "colab": {}
      },
      "source": [
        "# test_sub_generator.reset()\n",
        "# predictions = model.predict_generator(test_sub_generator, steps=len(test_sub_generator), verbose=1) \n",
        "# predictions = np.argmax(predictions, axis=-1) #multiple categories\n",
        "# label_map = (train_generator.class_indices)\n",
        "# label_map = dict((v,k) for k,v in label_map.items()) #flip k,v\n",
        "# predictions = [label_map[k] for k in predictions]"
      ],
      "execution_count": null,
      "outputs": []
    },
    {
      "cell_type": "code",
      "metadata": {
        "id": "GcON_m_431b2",
        "colab_type": "code",
        "colab": {}
      },
      "source": [
        "from tqdm import tqdm\n",
        "\n",
        "test_sub_generator.reset()\n",
        "tta_steps = 10\n",
        "l_predictions = []\n",
        "\n",
        "for i in tqdm(range(tta_steps)):\n",
        "#    preds = model.predict_generator(train_datagen.flow(x_val, batch_size=bs, shuffle=False), steps = len(x_val)/bs)\n",
        "    preds = model.predict_generator(test_sub_generator, steps=len(test_sub_generator), verbose=1) \n",
        "    l_predictions.append(preds)\n",
        "\n",
        "pred = np.mean(l_predictions, axis=0)\n",
        "\n",
        "#np.mean(np.equal(np.argmax(y_val, axis=-1), np.argmax(pred, axis=-1)))\n",
        "\n",
        "predictions = np.argmax(pred, axis=-1)\n",
        "label_map = (train_generator.class_indices)\n",
        "label_map = dict((v,k) for k,v in label_map.items()) #flip k,v\n",
        "predictions = [label_map[k] for k in predictions]"
      ],
      "execution_count": null,
      "outputs": []
    },
    {
      "cell_type": "code",
      "metadata": {
        "id": "vVuJTHGfv7Do",
        "colab_type": "code",
        "colab": {}
      },
      "source": [
        "# l_predictions[0].any()==l_predictions[2].any()\n",
        "# l_predictions[0][:10]== l_predictions[1][:10]"
      ],
      "execution_count": null,
      "outputs": []
    },
    {
      "cell_type": "code",
      "metadata": {
        "id": "Q5ryjQOL1lrG",
        "colab_type": "code",
        "colab": {}
      },
      "source": [
        "# l_predictions[0][3], '/n',l_predictions[1][3],'/n', l_predictions[2][3],'/n',(l_predictions[0][3]+l_predictions[1][3]+ l_predictions[2][3])/3"
      ],
      "execution_count": null,
      "outputs": []
    },
    {
      "cell_type": "code",
      "metadata": {
        "id": "phG9DJOi3rou",
        "colab_type": "code",
        "colab": {}
      },
      "source": [
        "#pred[3]"
      ],
      "execution_count": null,
      "outputs": []
    },
    {
      "cell_type": "code",
      "metadata": {
        "id": "Y-ul2ue71qyg",
        "colab_type": "code",
        "colab": {}
      },
      "source": [
        "#l_predictions[1][:10]"
      ],
      "execution_count": null,
      "outputs": []
    },
    {
      "cell_type": "code",
      "metadata": {
        "id": "VPpWoKBH12tz",
        "colab_type": "code",
        "colab": {}
      },
      "source": [
        "filenames_with_dir=test_sub_generator.filenames\n",
        "submission = pd.DataFrame({'Id':filenames_with_dir, 'Category':predictions}, columns=['Id', 'Category'])\n",
        "submission['Id'] = submission['Id'].replace('test_upload/','')\n",
        "submission.to_csv(DIR + f'submission/submission_{ver}.csv', index=False)\n",
        "print('Save submit')\n",
        "\n",
        "# Рекомендация: попробуйте добавить Test Time Augmentation (TTA)\n",
        "# https://towardsdatascience.com/test-time-augmentation-tta-and-how-to-perform-it-with-keras-4ac19b67fb4d"
      ],
      "execution_count": null,
      "outputs": []
    },
    {
      "cell_type": "code",
      "metadata": {
        "id": "UmMUS3DX12t1",
        "colab_type": "code",
        "colab": {}
      },
      "source": [
        "submission.head()"
      ],
      "execution_count": null,
      "outputs": []
    },
    {
      "cell_type": "code",
      "metadata": {
        "id": "q0zVKq275FIC",
        "colab_type": "code",
        "colab": {}
      },
      "source": [
        "#tmp_y = pd.concat([submission['Category']])"
      ],
      "execution_count": null,
      "outputs": []
    },
    {
      "cell_type": "code",
      "metadata": {
        "id": "k3EcA9CrXiHI",
        "colab_type": "code",
        "colab": {}
      },
      "source": [
        "#filenames_with_dir"
      ],
      "execution_count": null,
      "outputs": []
    },
    {
      "cell_type": "code",
      "metadata": {
        "_kg_hide-input": true,
        "id": "k5pgzZGr12t4",
        "colab_type": "code",
        "colab": {}
      },
      "source": [
        "# Clean PATH\n",
        "# import shutil\n",
        "# shutil.rmtree(PATH)"
      ],
      "execution_count": null,
      "outputs": []
    },
    {
      "cell_type": "markdown",
      "metadata": {
        "id": "cbmClCu212t6",
        "colab_type": "text"
      },
      "source": [
        "## Интересно, к какому классу модель отнесет вот эти автомобили?"
      ]
    },
    {
      "cell_type": "markdown",
      "metadata": {
        "id": "p_KRdw6K12t7",
        "colab_type": "text"
      },
      "source": [
        "# Что можно сделать, чтобы улучшить результат:"
      ]
    },
    {
      "cell_type": "markdown",
      "metadata": {
        "id": "m6LrKAF612t7",
        "colab_type": "text"
      },
      "source": [
        "* Примените transfer learning с fine-tuning\n",
        "* Настройте LR, optimizer, loss\n",
        "* Подберите другие переменные (размер картинки, батч и т.д.)\n",
        "* Попробуйте и другие архитектуры сетей (а не только Xception) или их ансамбли. Примеры SOTA на ImageNet  \n",
        "* \n",
        "* Добавьте Batch Normalization и поэкспериментируйте с архитектурой “головы”\n",
        "* Примените другие функции callback Keras https://keras.io/callbacks/ \n",
        "* Добавьте TTA (Test Time Augmentation)\n",
        "* Дополнительно*: Используйте разные техники управления Learning Rate (https://towardsdatascience.com/finding-good-learning-rate-and-the-one-cycle-policy-7159fe1db5d6 (eng) http://teleported.in/posts/cyclic-learning-rate/ (eng))\n",
        "* Дополнительно*: Добавьте более продвинутые библиотеки аугментации изображений (например, Albumentations )\n",
        "\n",
        "### Удачи в соревновании!"
      ]
    }
  ]
}